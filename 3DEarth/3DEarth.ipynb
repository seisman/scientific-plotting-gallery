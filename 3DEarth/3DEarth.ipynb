{
 "cells": [
  {
   "cell_type": "code",
   "execution_count": null,
   "metadata": {},
   "outputs": [],
   "source": [
    "import pygmt\n",
    "import numpy as np\n",
    "\n",
    "# projection center and size of the Earth\n",
    "lon0, lat0, size = 170, 30, 15\n",
    "\n",
    "fig = pygmt.Figure()\n",
    "# plotting the earth relief\n",
    "fig.grdimage(\"@earth_relief_15m\", projection=f\"G{lon0}/{lat0}/{size}c\", shading=True, cmap=\"geo\")\n",
    "\n",
    "# cut 1/8 of the Earth\n",
    "x=[130.0, 130.0, 220.0]\n",
    "y=[90.0, 0.0, 0.0]\n",
    "fig.plot(x=x, y=y, color=\"darkgray\", pen=\"0.5p,white@50\")\n",
    "\n",
    "# plot Moho\n",
    "scale = 6300/6371\n",
    "newsize = size * scale\n",
    "xshift = yshift = size * (1 - scale) / 2.0\n",
    "fig.plot(x=x, y=y, color=\"162/99/57\", pen=\"0.5p,white@50\", projection=f\"G{lon0}/{lat0}/{newsize}c\", xshift=f\"a{xshift}c\", yshift=f\"a{yshift}c\")\n",
    "\n",
    "# plot CMB\n",
    "scale = 3480/6371\n",
    "newsize = size * scale\n",
    "xshift = yshift = size * (1 - scale) / 2.0\n",
    "fig.plot(x=x, y=y, color=\"lightgreen\", pen=\"0.5p,white@50\", projection=f\"G{lon0}/{lat0}/{newsize}c\", xshift=f\"a{xshift}c\", yshift=f\"a{yshift}c\")\n",
    "\n",
    "#### Here, the map projection is switched to linear projection!\n",
    "# The following codes are used to plot the XYZ axis\n",
    "# mapproject is not wrapped in PyGMT\n",
    "with pygmt.helpers.GMTTempFile() as outfile:\n",
    "    with pygmt.clib.Session() as lib:\n",
    "        file_context = lib.virtualfile_from_vectors(x, y)\n",
    "        with file_context as fname:\n",
    "            lib.call_module(\"mapproject\", f\"{fname} -JG{lon0}/{lat0}/{size}c -Rg > {outfile.name}\")\n",
    "        newx, newy = outfile.loadtxt(unpack=True)\n",
    "for x0, y0 in zip(newx, newy):\n",
    "    fig.plot(x=[x0, size*0.5], y=[y0, size*0.5], projection=\"x1c\", region=[0, size, 0, size], pen=\"1p,white@80\")\n",
    "\n",
    "# plot the inner core\n",
    "scale = 1221/6371\n",
    "fig.image(\"3Dball.eps\", position=f\"JMC+w{size*scale}c\")\n",
    "\n",
    "# Add more labels\n",
    "fig.text(x=size*0.5, y=size*0.5, text=\"Inner Core\", font=\"12p,1,white\", offset=\"0.1c/0c\")\n",
    "\n",
    "fig.savefig(\"3DEarth.jpg\")\n",
    "fig.show()"
   ]
  }
 ],
 "metadata": {
  "kernelspec": {
   "display_name": "Python 3 (ipykernel)",
   "language": "python",
   "name": "python3"
  },
  "language_info": {
   "codemirror_mode": {
    "name": "ipython",
    "version": 3
   },
   "file_extension": ".py",
   "mimetype": "text/x-python",
   "name": "python",
   "nbconvert_exporter": "python",
   "pygments_lexer": "ipython3",
   "version": "3.9.7"
  }
 },
 "nbformat": 4,
 "nbformat_minor": 4
}
